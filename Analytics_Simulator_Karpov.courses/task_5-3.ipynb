{
 "cells": [
  {
   "cell_type": "markdown",
   "id": "c73009e7-528e-4427-9bcc-37582b2f5519",
   "metadata": {},
   "source": [
    "### Анна Тимошенко"
   ]
  },
  {
   "cell_type": "code",
   "execution_count": 1,
   "id": "46766a3c-41ea-4a19-a540-40a63527b7c4",
   "metadata": {},
   "outputs": [],
   "source": [
    "import pandas as pd\n",
    "import pandahouse as ph\n",
    "from scipy.stats import ttest_ind\n",
    "import seaborn as sns\n",
    "import numpy as np"
   ]
  },
  {
   "cell_type": "code",
   "execution_count": 2,
   "id": "1539adad-f5a8-4d83-b946-193d2abbee72",
   "metadata": {},
   "outputs": [],
   "source": [
    "connection = {'host': 'https://clickhouse.lab.karpov.courses',\n",
    "                      'database':'simulator_20220820',\n",
    "                      'user':'student', \n",
    "                      'password':'dpo_python_2020'\n",
    "                     }"
   ]
  },
  {
   "cell_type": "code",
   "execution_count": 3,
   "id": "5c7d76ef-ba16-4bf1-871f-3891671476c6",
   "metadata": {},
   "outputs": [],
   "source": [
    "q = \"\"\"\n",
    "SELECT exp_group, \n",
    "    user_id,\n",
    "    sum(action = 'like') as likes,\n",
    "    sum(action = 'view') as views,\n",
    "    likes/views as ctr\n",
    "FROM {db}.feed_actions \n",
    "WHERE toDate(time) between '2022-07-13' and '2022-07-19'\n",
    "    and exp_group in (0,1,2,3)\n",
    "GROUP BY exp_group, user_id\n",
    "\"\"\"\n",
    "\n",
    "df = ph.read_clickhouse(q, connection=connection)"
   ]
  },
  {
   "cell_type": "markdown",
   "id": "606b8ada-0b48-43a0-9d55-079072bda0b7",
   "metadata": {},
   "source": [
    "Считаем общий CTR в контрольной группе  𝐶𝑇𝑅𝑐𝑜𝑛𝑡𝑟𝑜𝑙=𝑠𝑢𝑚(𝑙𝑖𝑘𝑒𝑠)/𝑠𝑢𝑚(𝑣𝑖𝑒𝑤𝑠) \n",
    "\n",
    "Посчитаем в обеих группах поюзерную метрику  𝑙𝑖𝑛𝑒𝑎𝑟𝑖𝑧𝑒𝑑_𝑙𝑖𝑘𝑒𝑠=𝑙𝑖𝑘𝑒𝑠−𝐶𝑇𝑅𝑐𝑜𝑛𝑡𝑟𝑜𝑙∗𝑣𝑖𝑒𝑤𝑠 \n",
    "\n",
    "После чего сравним  t-тестом отличия в группах по метрике 𝑙𝑖𝑛𝑒𝑎𝑟𝑖𝑧𝑒𝑑_𝑙𝑖𝑘𝑒𝑠"
   ]
  },
  {
   "cell_type": "markdown",
   "id": "d3eddb3b-74a2-4a80-af78-26ea5f8891dc",
   "metadata": {},
   "source": [
    "### Проанализируйте тест между группами 0 и 3 по метрике линеаризованных лайков. Видно ли отличие? Стало ли 𝑝−𝑣𝑎𝑙𝑢𝑒 меньше?"
   ]
  },
  {
   "cell_type": "code",
   "execution_count": 4,
   "id": "3407faf8-fbf4-4b37-88ad-a7f56d077561",
   "metadata": {},
   "outputs": [],
   "source": [
    "ctr_control0 = df[df.exp_group == 0].likes.sum() / df[df.exp_group == 0].views.sum()\n",
    "df.loc[df.exp_group.isin([0,3]), 'linearized_likes'] = df[df.exp_group.isin([0,3])].apply(\n",
    "    lambda x: x['likes'] - ctr_control0 * x['views'], axis=1)"
   ]
  },
  {
   "cell_type": "code",
   "execution_count": 5,
   "id": "782f4e10-3e39-4738-9d5a-c8c9ec2d8ce9",
   "metadata": {},
   "outputs": [
    {
     "data": {
      "text/plain": [
       "Ttest_indResult(statistic=-15.214995460903827, pvalue=5.4914249479690016e-52)"
      ]
     },
     "execution_count": 5,
     "metadata": {},
     "output_type": "execute_result"
    }
   ],
   "source": [
    "ttest_ind(df.loc[df.exp_group == 0, 'linearized_likes'],\n",
    "          df.loc[df.exp_group == 3, 'linearized_likes'],\n",
    "          equal_var=False)"
   ]
  },
  {
   "cell_type": "code",
   "execution_count": 6,
   "id": "6a5fed4e-4d20-4eb8-b6ae-be9f7fdc26d2",
   "metadata": {},
   "outputs": [
    {
     "data": {
      "text/plain": [
       "Ttest_indResult(statistic=-13.896870721904069, pvalue=1.055849414662529e-43)"
      ]
     },
     "execution_count": 6,
     "metadata": {},
     "output_type": "execute_result"
    }
   ],
   "source": [
    "ttest_ind(df[df.exp_group == 0].ctr,\n",
    "          df[df.exp_group == 3].ctr,\n",
    "          equal_var=False)"
   ]
  },
  {
   "cell_type": "markdown",
   "id": "4c8b4f4a-6626-4244-8956-0d2be531d2e5",
   "metadata": {},
   "source": [
    "Отличие есть, p-value меньше не стало"
   ]
  },
  {
   "cell_type": "markdown",
   "id": "12d77c7b-ffc5-4198-a1db-556ce98361e4",
   "metadata": {},
   "source": [
    "### Проанализируйте тест между группами 1 и 2 по метрике линеаризованных лайков. Видно ли отличие? Стало ли 𝑝−𝑣𝑎𝑙𝑢𝑒 меньше?"
   ]
  },
  {
   "cell_type": "code",
   "execution_count": 7,
   "id": "2d55945b-d016-40d2-82eb-932742c79ff3",
   "metadata": {},
   "outputs": [],
   "source": [
    "ctr_control1 = df[df.exp_group == 1].likes.sum() / df[df.exp_group == 1].views.sum()\n",
    "df.loc[df.exp_group.isin([1,2]), 'linearized_likes'] = df[df.exp_group.isin([1,2])].apply(\n",
    "    lambda x: x['likes'] - ctr_control1 * x['views'], axis=1)"
   ]
  },
  {
   "cell_type": "code",
   "execution_count": 8,
   "id": "3637db54-c206-4d7f-afac-fa2bc5a5837a",
   "metadata": {},
   "outputs": [
    {
     "data": {
      "text/plain": [
       "Ttest_indResult(statistic=6.122579994775974, pvalue=9.439432187037644e-10)"
      ]
     },
     "execution_count": 8,
     "metadata": {},
     "output_type": "execute_result"
    }
   ],
   "source": [
    "ttest_ind(df.loc[df.exp_group == 1, 'linearized_likes'],\n",
    "          df.loc[df.exp_group == 2, 'linearized_likes'],\n",
    "          equal_var=False)"
   ]
  },
  {
   "cell_type": "code",
   "execution_count": 9,
   "id": "016c74cd-19b7-4aab-9023-b1a94e6465a4",
   "metadata": {},
   "outputs": [
    {
     "data": {
      "text/plain": [
       "Ttest_indResult(statistic=0.7094392041270485, pvalue=0.4780623130874935)"
      ]
     },
     "execution_count": 9,
     "metadata": {},
     "output_type": "execute_result"
    }
   ],
   "source": [
    "ttest_ind(df[df.exp_group == 1].ctr,\n",
    "          df[df.exp_group == 2].ctr,\n",
    "          equal_var=False)"
   ]
  },
  {
   "cell_type": "markdown",
   "id": "d516a122-d252-4cf3-9548-c7069968ff20",
   "metadata": {},
   "source": [
    "Отличие есть, p-value стало меньше. Это показывает, что t-test на линеаризованных лайках более эффективен."
   ]
  }
 ],
 "metadata": {
  "kernelspec": {
   "display_name": "Python 3 (ipykernel)",
   "language": "python",
   "name": "python3"
  },
  "language_info": {
   "codemirror_mode": {
    "name": "ipython",
    "version": 3
   },
   "file_extension": ".py",
   "mimetype": "text/x-python",
   "name": "python",
   "nbconvert_exporter": "python",
   "pygments_lexer": "ipython3",
   "version": "3.8.10"
  }
 },
 "nbformat": 4,
 "nbformat_minor": 5
}
