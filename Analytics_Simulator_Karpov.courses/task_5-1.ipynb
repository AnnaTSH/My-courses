{
 "cells": [
  {
   "cell_type": "markdown",
   "id": "a83596c3-f727-4797-b752-461b7d7194cd",
   "metadata": {},
   "source": [
    "### Анна Тимошенко"
   ]
  },
  {
   "cell_type": "code",
   "execution_count": 1,
   "id": "125eb8df-058f-42e5-a67b-e353bbd72e03",
   "metadata": {},
   "outputs": [],
   "source": [
    "import pandas as pd\n",
    "import pandahouse as ph\n",
    "from scipy.stats import ttest_ind\n",
    "import seaborn as sns"
   ]
  },
  {
   "cell_type": "code",
   "execution_count": 2,
   "id": "8a6e24a4-7a3d-4b0f-9afd-d528e8cf5607",
   "metadata": {},
   "outputs": [
    {
     "data": {
      "text/html": [
       "<div>\n",
       "<style scoped>\n",
       "    .dataframe tbody tr th:only-of-type {\n",
       "        vertical-align: middle;\n",
       "    }\n",
       "\n",
       "    .dataframe tbody tr th {\n",
       "        vertical-align: top;\n",
       "    }\n",
       "\n",
       "    .dataframe thead th {\n",
       "        text-align: right;\n",
       "    }\n",
       "</style>\n",
       "<table border=\"1\" class=\"dataframe\">\n",
       "  <thead>\n",
       "    <tr style=\"text-align: right;\">\n",
       "      <th></th>\n",
       "      <th>user_id</th>\n",
       "      <th>likes</th>\n",
       "      <th>views</th>\n",
       "      <th>ctr</th>\n",
       "    </tr>\n",
       "    <tr>\n",
       "      <th>exp_group</th>\n",
       "      <th></th>\n",
       "      <th></th>\n",
       "      <th></th>\n",
       "      <th></th>\n",
       "    </tr>\n",
       "  </thead>\n",
       "  <tbody>\n",
       "    <tr>\n",
       "      <th>2</th>\n",
       "      <td>8480</td>\n",
       "      <td>8480</td>\n",
       "      <td>8480</td>\n",
       "      <td>8480</td>\n",
       "    </tr>\n",
       "    <tr>\n",
       "      <th>3</th>\n",
       "      <td>8569</td>\n",
       "      <td>8569</td>\n",
       "      <td>8569</td>\n",
       "      <td>8569</td>\n",
       "    </tr>\n",
       "  </tbody>\n",
       "</table>\n",
       "</div>"
      ],
      "text/plain": [
       "           user_id  likes  views   ctr\n",
       "exp_group                             \n",
       "2             8480   8480   8480  8480\n",
       "3             8569   8569   8569  8569"
      ]
     },
     "execution_count": 2,
     "metadata": {},
     "output_type": "execute_result"
    }
   ],
   "source": [
    "connection = {'host': 'https://clickhouse.lab.karpov.courses',\n",
    "                      'database':'simulator_20220820',\n",
    "                      'user':'student', \n",
    "                      'password':'dpo_python_2020'\n",
    "                     }\n",
    "\n",
    "q = \"\"\"\n",
    "SELECT exp_group, \n",
    "    user_id,\n",
    "    sum(action = 'like') as likes,\n",
    "    sum(action = 'view') as views,\n",
    "    likes/views as ctr\n",
    "FROM {db}.feed_actions \n",
    "WHERE toDate(time) between '2022-07-06' and '2022-07-12'\n",
    "    and exp_group in (2,3)\n",
    "GROUP BY exp_group, user_id\n",
    "\"\"\"\n",
    "\n",
    "df = ph.read_clickhouse(q, connection=connection)\n",
    "\n",
    "df.groupby('exp_group').count()"
   ]
  },
  {
   "cell_type": "code",
   "execution_count": 3,
   "id": "277467db-fcb5-4b3c-8594-8e218e1f633b",
   "metadata": {},
   "outputs": [
    {
     "name": "stdout",
     "output_type": "stream",
     "text": [
      "CPU times: user 1min 16s, sys: 435 ms, total: 1min 17s\n",
      "Wall time: 1min 17s\n"
     ]
    }
   ],
   "source": [
    "%%time\n",
    "pvalues = []\n",
    "for q in range(10000):\n",
    "    group2_500 = df[df.exp_group == 2].user_id.sample(n=500, random_state=q, replace=False)\n",
    "    group3_500 = df[df.exp_group == 3].user_id.sample(n=500, random_state=q, replace=False)\n",
    "    pvalues.append(ttest_ind(df[df.user_id.isin(group2_500)].ctr,\n",
    "                df[df.user_id.isin(group3_500)].ctr,\n",
    "                equal_var=False)[1])"
   ]
  },
  {
   "cell_type": "markdown",
   "id": "94495010-d701-429b-a70b-664ddd95a9f6",
   "metadata": {},
   "source": [
    "## 1. Построить гистограмму распределения получившихся 10000 p-values"
   ]
  },
  {
   "cell_type": "code",
   "execution_count": 4,
   "id": "64b87afd-3241-4d85-bc4f-953fe3848743",
   "metadata": {},
   "outputs": [
    {
     "data": {
      "text/plain": [
       "<AxesSubplot:ylabel='Count'>"
      ]
     },
     "execution_count": 4,
     "metadata": {},
     "output_type": "execute_result"
    },
    {
     "data": {
      "image/png": "[encoded data removed]",
      "text/plain": [
       "<Figure size 432x288 with 1 Axes>"
      ]
     },
     "metadata": {
      "needs_background": "light"
     },
     "output_type": "display_data"
    }
   ],
   "source": [
    "sns.histplot(data=pvalues)"
   ]
  },
  {
   "cell_type": "markdown",
   "id": "4a0cf06e-e30b-4c1c-bff9-a48c89ea78f9",
   "metadata": {},
   "source": [
    "## 2. Посчитать, какой процент p values оказался меньше либо равен 0.05"
   ]
  },
  {
   "cell_type": "code",
   "execution_count": 5,
   "id": "8001be22-02db-4768-9298-b34ad111b282",
   "metadata": {},
   "outputs": [
    {
     "name": "stdout",
     "output_type": "stream",
     "text": [
      "4.52 % - процент p-values меньше либо равных 0.05\n"
     ]
    }
   ],
   "source": [
    "print((100 * len([p for p in pvalues if p <= 0.05]) / len(pvalues)), '% - процент p-values меньше либо равных 0.05')"
   ]
  },
  {
   "cell_type": "markdown",
   "id": "24793b82-1e3b-476e-b200-693d46b8b55b",
   "metadata": {},
   "source": [
    "## 3. Написать вывод по проведенному АА-тесту, корректно ли работает наша система сплитования"
   ]
  },
  {
   "cell_type": "markdown",
   "id": "e317613f-748c-4609-bdef-26063a2e665d",
   "metadata": {},
   "source": [
    "Равномерное распределение p-value - это хороший знак. Если примем уровень $\\alpha$ = 0.05, можно делать вывод, что выборки 2 и 3 статистически не отличаются (менее чем в 5% случаев t-test выдаёт p-value <= 0.05, то есть говорит о различиях между выборками - \"ложноположительное срабатывание\"). Система сплитования работает корректно."
   ]
  }
 ],
 "metadata": {
  "kernelspec": {
   "display_name": "Python 3 (ipykernel)",
   "language": "python",
   "name": "python3"
  },
  "language_info": {
   "codemirror_mode": {
    "name": "ipython",
    "version": 3
   },
   "file_extension": ".py",
   "mimetype": "text/x-python",
   "name": "python",
   "nbconvert_exporter": "python",
   "pygments_lexer": "ipython3",
   "version": "3.8.10"
  }
 },
 "nbformat": 4,
 "nbformat_minor": 5
}
