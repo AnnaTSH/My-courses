{
 "cells": [
  {
   "cell_type": "markdown",
   "id": "76ccab6e-d1db-4474-ab94-e80fc2a7b21e",
   "metadata": {},
   "source": [
    "### Анна Тимошенко"
   ]
  },
  {
   "cell_type": "code",
   "execution_count": 1,
   "id": "64a4041a-9979-4aec-9a55-e7f2ad5cdee2",
   "metadata": {},
   "outputs": [],
   "source": [
    "import pandas as pd\n",
    "import pandahouse as ph\n",
    "from scipy.stats import ttest_ind\n",
    "from scipy.stats import mannwhitneyu\n",
    "from scipy.stats import poisson\n",
    "import seaborn as sns\n",
    "import numpy as np"
   ]
  },
  {
   "cell_type": "code",
   "execution_count": 3,
   "id": "0a07fa11-3224-4c7c-a6ca-feb1b8168a6d",
   "metadata": {},
   "outputs": [],
   "source": [
    "connection = {'host': 'https://clickhouse.lab.karpov.courses',\n",
    "                      'database':'simulator_20220820',\n",
    "                      'user':'student', \n",
    "                      'password':'dpo_python_2020'\n",
    "                     }"
   ]
  },
  {
   "cell_type": "code",
   "execution_count": 17,
   "id": "9dfc1a79-2e46-4476-8c39-55612a82d521",
   "metadata": {},
   "outputs": [],
   "source": [
    "q = \"\"\"\n",
    "SELECT exp_group, \n",
    "    user_id,\n",
    "    sum(action = 'like') as likes,\n",
    "    sum(action = 'view') as views,\n",
    "    likes/views as ctr\n",
    "FROM {db}.feed_actions \n",
    "WHERE toDate(time) between '2022-07-13' and '2022-07-19'\n",
    "    and exp_group in (1,2)\n",
    "GROUP BY exp_group, user_id\n",
    "\"\"\"\n",
    "\n",
    "df = ph.read_clickhouse(q, connection=connection)"
   ]
  },
  {
   "cell_type": "markdown",
   "id": "29c39d9d-6aa3-4726-9673-7ff6ec31b14b",
   "metadata": {},
   "source": [
    "### 1. Выбрать метод анализа и сравнить CTR в двух группах\n",
    "Далее я применяю последовательно t-тест, тест Манна-Уитни, t-тест на сглаженном ctr (α=5), Пуассоновский бутстреп, а также t-тест и тест Манна-Уитни поверх бакетного преобразования"
   ]
  },
  {
   "cell_type": "markdown",
   "id": "4dbd3260-e093-4353-b51e-5ebc5cf7f2c1",
   "metadata": {},
   "source": [
    "#### t-test"
   ]
  },
  {
   "cell_type": "code",
   "execution_count": 9,
   "id": "362e1be9-d84c-409c-a2da-c14bd2b1a6f0",
   "metadata": {},
   "outputs": [
    {
     "data": {
      "text/plain": [
       "Ttest_indResult(statistic=0.7094392041270486, pvalue=0.4780623130874935)"
      ]
     },
     "execution_count": 9,
     "metadata": {},
     "output_type": "execute_result"
    }
   ],
   "source": [
    "# t-test\n",
    "ttest_ind(df[df.exp_group == 1].ctr,\n",
    "          df[df.exp_group == 2].ctr,\n",
    "          equal_var=False)"
   ]
  },
  {
   "cell_type": "code",
   "execution_count": 19,
   "id": "364206dd-0f9d-418d-bd79-9d26fb6501ac",
   "metadata": {},
   "outputs": [
    {
     "data": {
      "text/html": [
       "<div>\n",
       "<style scoped>\n",
       "    .dataframe tbody tr th:only-of-type {\n",
       "        vertical-align: middle;\n",
       "    }\n",
       "\n",
       "    .dataframe tbody tr th {\n",
       "        vertical-align: top;\n",
       "    }\n",
       "\n",
       "    .dataframe thead th {\n",
       "        text-align: right;\n",
       "    }\n",
       "</style>\n",
       "<table border=\"1\" class=\"dataframe\">\n",
       "  <thead>\n",
       "    <tr style=\"text-align: right;\">\n",
       "      <th></th>\n",
       "      <th>statistic</th>\n",
       "      <th>p_value</th>\n",
       "    </tr>\n",
       "  </thead>\n",
       "  <tbody>\n",
       "    <tr>\n",
       "      <th>0</th>\n",
       "      <td>0.709439</td>\n",
       "      <td>0.478062</td>\n",
       "    </tr>\n",
       "  </tbody>\n",
       "</table>\n",
       "</div>"
      ],
      "text/plain": [
       "   statistic   p_value\n",
       "0   0.709439  0.478062"
      ]
     },
     "execution_count": 19,
     "metadata": {},
     "output_type": "execute_result"
    }
   ],
   "source": [
    "# То же самое с помощью встроенной функции clickhouse\n",
    "connection = {'host': 'https://clickhouse.lab.karpov.courses',\n",
    "                      'database':'simulator_20220820',\n",
    "                      'user':'student', \n",
    "                      'password':'dpo_python_2020'\n",
    "                     }\n",
    "\n",
    "q = \"\"\"\n",
    "WITH welchTTest(ctr, exp_index) as ttest\n",
    "\n",
    "select tupleElement(ttest,1) as statistic,\n",
    "    tupleElement(ttest,2) as p_value\n",
    "FROM (SELECT exp_group, \n",
    "        case when exp_group = 1 then 0 else 1 end as exp_index,\n",
    "        user_id, \n",
    "        sum(action = 'like') as likes,\n",
    "        sum(action = 'view') as views,\n",
    "        likes/views as ctr\n",
    "    FROM {db}.feed_actions \n",
    "    WHERE toDate(time) between '2022-07-13' and '2022-07-19'\n",
    "        and exp_group in (1,2)\n",
    "    GROUP BY exp_group, user_id)\n",
    "\"\"\"\n",
    "ph.read_clickhouse(q, connection=connection)"
   ]
  },
  {
   "cell_type": "markdown",
   "id": "472ee4f1-1430-4902-9597-b7d615e89d9e",
   "metadata": {},
   "source": [
    "t-test показывает, что нет оснований отвергнуть нулевую гипотезу об отсутствии отличий между выборками"
   ]
  },
  {
   "cell_type": "markdown",
   "id": "746ae139-2bf4-4a7e-82f4-435e40421968",
   "metadata": {},
   "source": [
    "#### Тест Манна-Уитни"
   ]
  },
  {
   "cell_type": "code",
   "execution_count": 18,
   "id": "4c9d427f-c705-42f7-b2f9-2a632cda8b1d",
   "metadata": {},
   "outputs": [
    {
     "name": "stdout",
     "output_type": "stream",
     "text": [
      "MannwhitneyuResult(statistic=56601260.5, pvalue=6.0376484617779035e-56)\n"
     ]
    }
   ],
   "source": [
    "# Тест Манна-Уитни\n",
    "print(mannwhitneyu(df[df.exp_group == 1].ctr,\n",
    "                   df[df.exp_group == 2].ctr,\n",
    "                   alternative = 'two-sided')\n",
    "      )"
   ]
  },
  {
   "cell_type": "code",
   "execution_count": 20,
   "id": "f1dff411-8f05-41f3-aefb-684a0bcfa882",
   "metadata": {},
   "outputs": [
    {
     "data": {
      "text/html": [
       "<div>\n",
       "<style scoped>\n",
       "    .dataframe tbody tr th:only-of-type {\n",
       "        vertical-align: middle;\n",
       "    }\n",
       "\n",
       "    .dataframe tbody tr th {\n",
       "        vertical-align: top;\n",
       "    }\n",
       "\n",
       "    .dataframe thead th {\n",
       "        text-align: right;\n",
       "    }\n",
       "</style>\n",
       "<table border=\"1\" class=\"dataframe\">\n",
       "  <thead>\n",
       "    <tr style=\"text-align: right;\">\n",
       "      <th></th>\n",
       "      <th>statistic</th>\n",
       "      <th>p_value</th>\n",
       "    </tr>\n",
       "  </thead>\n",
       "  <tbody>\n",
       "    <tr>\n",
       "      <th>0</th>\n",
       "      <td>56601260.5</td>\n",
       "      <td>1.655343e-13</td>\n",
       "    </tr>\n",
       "  </tbody>\n",
       "</table>\n",
       "</div>"
      ],
      "text/plain": [
       "    statistic       p_value\n",
       "0  56601260.5  1.655343e-13"
      ]
     },
     "execution_count": 20,
     "metadata": {},
     "output_type": "execute_result"
    }
   ],
   "source": [
    "# Тест Манна-Уитни с помощью встроенной функции clickhouse\n",
    "connection = {'host': 'https://clickhouse.lab.karpov.courses',\n",
    "                      'database':'simulator_20220820',\n",
    "                      'user':'student', \n",
    "                      'password':'dpo_python_2020'\n",
    "                     }\n",
    "\n",
    "q = \"\"\"\n",
    "WITH mannWhitneyUTest('two-sided')(ctr, exp_index) as mw\n",
    "\n",
    "select tupleElement(mw,1) as statistic,\n",
    "    tupleElement(mw,2) as p_value\n",
    "FROM (SELECT exp_group, \n",
    "        case when exp_group = 1 then 0 else 1 end as exp_index,\n",
    "        user_id, \n",
    "        sum(action = 'like') as likes,\n",
    "        sum(action = 'view') as views,\n",
    "        likes/views as ctr\n",
    "    FROM {db}.feed_actions \n",
    "    WHERE toDate(time) between '2022-07-13' and '2022-07-19'\n",
    "        and exp_group in (1,2)\n",
    "    GROUP BY exp_group, user_id)\n",
    "\"\"\"\n",
    "ph.read_clickhouse(q, connection=connection)"
   ]
  },
  {
   "cell_type": "markdown",
   "id": "e329ba1c-e1d0-4ed3-84c1-a93bf5cbec50",
   "metadata": {},
   "source": [
    "тест Манна-Уитни показывает, что можно отвергнуть нулевую гипотезу об отсутствии отличий между 1 и 2 группами (в отношении CTR)"
   ]
  },
  {
   "cell_type": "markdown",
   "id": "512a9cb0-63d8-447a-9e5b-914545efe382",
   "metadata": {},
   "source": [
    "#### Сглаженный ctr + t-test"
   ]
  },
  {
   "cell_type": "code",
   "execution_count": 21,
   "id": "a04c32dd-2e38-4088-90ad-e6c9cab0a139",
   "metadata": {},
   "outputs": [],
   "source": [
    "def get_smoothed_ctr(user_likes, user_views, global_ctr, alpha):\n",
    "    smothed_ctr = (user_likes + alpha * global_ctr) / (user_views + alpha)\n",
    "    return smothed_ctr"
   ]
  },
  {
   "cell_type": "code",
   "execution_count": 22,
   "id": "a4ac2dc2-764a-40ea-87de-26379533d123",
   "metadata": {},
   "outputs": [],
   "source": [
    "global_ctr_1 = df[df.exp_group == 1].likes.sum()/df[df.exp_group == 1].views.sum()\n",
    "global_ctr_2 = df[df.exp_group == 2].likes.sum()/df[df.exp_group == 2].views.sum()\n",
    "group1 = df[df.exp_group == 1].copy()\n",
    "group1['smoothed_ctr'] = df.apply(\n",
    "    lambda x: get_smoothed_ctr(x['likes'], x['views'], global_ctr_1, 5), axis=1)\n",
    "group2 = df[df.exp_group == 2].copy()\n",
    "group2['smoothed_ctr'] = df.apply(\n",
    "    lambda x: get_smoothed_ctr(x['likes'], x['views'], global_ctr_2, 5), axis=1)"
   ]
  },
  {
   "cell_type": "code",
   "execution_count": 23,
   "id": "4c0fbbc6-4b88-4697-85c7-08d53e52993e",
   "metadata": {},
   "outputs": [
    {
     "data": {
      "text/plain": [
       "Ttest_indResult(statistic=2.2841320431616983, pvalue=0.0223769815558559)"
      ]
     },
     "execution_count": 23,
     "metadata": {},
     "output_type": "execute_result"
    }
   ],
   "source": [
    "ttest_ind(group1['smoothed_ctr'],\n",
    "          group2['smoothed_ctr'],\n",
    "          equal_var=False)"
   ]
  },
  {
   "cell_type": "markdown",
   "id": "b71c05b7-5c09-4f53-853b-42c87ac8fda1",
   "metadata": {},
   "source": [
    "результат t-testа на сглаженном CTR позволяет отвергнуть нулевую гипотезу об отсутствии отличий (при уровне $\\alpha$ = 0.05)"
   ]
  },
  {
   "cell_type": "markdown",
   "id": "90fd1dff-d194-40b4-b1ff-d79dc72e5724",
   "metadata": {},
   "source": [
    "#### Пуассоновский бутстреп"
   ]
  },
  {
   "cell_type": "code",
   "execution_count": 39,
   "id": "30d08f0e-404c-4162-90e0-845e592cf6e7",
   "metadata": {},
   "outputs": [],
   "source": [
    "def bootstrap(likes1, views1, likes2, views2, n_bootstrap=2000):\n",
    "\n",
    "    poisson_bootstraps1 = poisson(1).rvs(\n",
    "        (n_bootstrap, len(likes1))).astype(np.int64)\n",
    "\n",
    "    poisson_bootstraps2 = poisson(1).rvs(\n",
    "            (n_bootstrap, len(likes2))).astype(np.int64)\n",
    "    \n",
    "    globalCTR1 = (poisson_bootstraps1*likes1).sum(axis=1)/(poisson_bootstraps1*views1).sum(axis=1)\n",
    "    \n",
    "    globalCTR2 = (poisson_bootstraps2*likes2).sum(axis=1)/(poisson_bootstraps2*views2).sum(axis=1)\n",
    "\n",
    "    return globalCTR1, globalCTR2"
   ]
  },
  {
   "cell_type": "code",
   "execution_count": 42,
   "id": "0a4017bf-1a63-48df-b201-d2bf5a51dfb5",
   "metadata": {},
   "outputs": [
    {
     "name": "stdout",
     "output_type": "stream",
     "text": [
      "CPU times: user 3.15 s, sys: 864 ms, total: 4.02 s\n",
      "Wall time: 4.06 s\n"
     ]
    },
    {
     "data": {
      "text/plain": [
       "<AxesSubplot:ylabel='Count'>"
      ]
     },
     "execution_count": 42,
     "metadata": {},
     "output_type": "execute_result"
    },
    {
     "data": {
      "image/png": "[encoded data removed]",
      "text/plain": [
       "<Figure size 432x288 with 1 Axes>"
      ]
     },
     "metadata": {
      "needs_background": "light"
     },
     "output_type": "display_data"
    }
   ],
   "source": [
    "%%time\n",
    "likes1 = df[df.exp_group == 1].likes.to_numpy()\n",
    "views1 = df[df.exp_group == 1].views.to_numpy()\n",
    "likes2 = df[df.exp_group == 2].likes.to_numpy()\n",
    "views2 = df[df.exp_group == 2].views.to_numpy()\n",
    "\n",
    "ctr1, ctr2 = bootstrap(likes1, views1, likes2, views2)\n",
    "\n",
    "sns.histplot(ctr1)\n",
    "sns.histplot(ctr2)"
   ]
  },
  {
   "cell_type": "markdown",
   "id": "30bca335-f784-48a4-8c81-a40f048cabad",
   "metadata": {},
   "source": [
    "Визуально результаты пуассоновского бутстрепа говорят о том, что глобальные ctr в группах 1 и 2 отличаются"
   ]
  },
  {
   "cell_type": "code",
   "execution_count": 43,
   "id": "3d7d0bcc-6972-41c1-8d62-2075712243de",
   "metadata": {},
   "outputs": [
    {
     "data": {
      "text/plain": [
       "<AxesSubplot:ylabel='Count'>"
      ]
     },
     "execution_count": 43,
     "metadata": {},
     "output_type": "execute_result"
    },
    {
     "data": {
      "image/png": "[encoded data removed]",
      "text/plain": [
       "<Figure size 432x288 with 1 Axes>"
      ]
     },
     "metadata": {
      "needs_background": "light"
     },
     "output_type": "display_data"
    }
   ],
   "source": [
    "sns.histplot(ctr2 - ctr1)"
   ]
  },
  {
   "cell_type": "markdown",
   "id": "a72f385f-313c-45e2-9d94-a905d6c15341",
   "metadata": {},
   "source": [
    "Гистограмма разности не пересекает ноль, на уровне глобального ctr одна группа строго больше другой"
   ]
  },
  {
   "cell_type": "markdown",
   "id": "974042f1-aed6-4d61-9ef8-134228566ff4",
   "metadata": {},
   "source": [
    "#### t-test и тест Манна-Уитни поверх бакетного преобразования"
   ]
  },
  {
   "cell_type": "code",
   "execution_count": 4,
   "id": "4d2196e8-72ac-4869-9351-074d07334262",
   "metadata": {},
   "outputs": [],
   "source": [
    "q = \"\"\"\n",
    "SELECT exp_group, bucket,\n",
    "    sum(likes)/sum(views) as bucket_ctr,\n",
    "    quantileExact(0.9)(ctr) as ctr9\n",
    "FROM (SELECT exp_group, \n",
    "        xxHash64(user_id)%50 as bucket,\n",
    "        user_id,\n",
    "        sum(action = 'like') as likes,\n",
    "        sum(action = 'view') as views,\n",
    "        likes/views as ctr\n",
    "    FROM {db}.feed_actions \n",
    "    WHERE toDate(time) between '2022-07-13' and '2022-07-19'\n",
    "        and exp_group in (1,2)\n",
    "    GROUP BY exp_group, bucket, user_id)\n",
    "GROUP BY exp_group, bucket\n",
    "\"\"\"\n",
    "\n",
    "df = ph.read_clickhouse(q, connection=connection)"
   ]
  },
  {
   "cell_type": "code",
   "execution_count": 5,
   "id": "3098d19b-61db-4285-beee-dc05a7bbe740",
   "metadata": {},
   "outputs": [
    {
     "data": {
      "text/plain": [
       "MannwhitneyuResult(statistic=1995.0, pvalue=2.859963936492646e-07)"
      ]
     },
     "execution_count": 5,
     "metadata": {},
     "output_type": "execute_result"
    }
   ],
   "source": [
    "#тест Манна-Уитни поверх бакетного преобразования\n",
    "mannwhitneyu(df[df.exp_group == 1].bucket_ctr,\n",
    "             df[df.exp_group == 2].bucket_ctr,\n",
    "             alternative = 'two-sided')"
   ]
  },
  {
   "cell_type": "code",
   "execution_count": 6,
   "id": "23e7d082-64d8-46e0-aa82-925824f9b316",
   "metadata": {},
   "outputs": [
    {
     "data": {
      "text/plain": [
       "Ttest_indResult(statistic=5.668234732053979, pvalue=3.4455951649945907e-07)"
      ]
     },
     "execution_count": 6,
     "metadata": {},
     "output_type": "execute_result"
    }
   ],
   "source": [
    "# t-test поверх бакетного преобразования\n",
    "ttest_ind(df[df.exp_group == 1].bucket_ctr, \n",
    "          df[df.exp_group == 2].bucket_ctr, \n",
    "          equal_var = False)"
   ]
  },
  {
   "cell_type": "code",
   "execution_count": 14,
   "id": "24b46151-e323-4bf0-a125-a57c1eae3cb5",
   "metadata": {},
   "outputs": [
    {
     "data": {
      "text/plain": [
       "<AxesSubplot:xlabel='bucket_ctr', ylabel='Count'>"
      ]
     },
     "execution_count": 14,
     "metadata": {},
     "output_type": "execute_result"
    },
    {
     "data": {
      "image/png": "[encoded data removed]",
      "text/plain": [
       "<Figure size 432x288 with 1 Axes>"
      ]
     },
     "metadata": {
      "needs_background": "light"
     },
     "output_type": "display_data"
    }
   ],
   "source": [
    "sns.histplot(data=df,\n",
    "             x='bucket_ctr',\n",
    "             hue='exp_group',\n",
    "             palette=['r', 'b'],\n",
    "             bins = 20\n",
    "            )"
   ]
  },
  {
   "cell_type": "markdown",
   "id": "aac762f6-715c-4fa9-a831-0b106d956c64",
   "metadata": {},
   "source": [
    "Результаты обоих тестов позволяют отвергнуть нулевую гипотезу об отсутствии различий между группами"
   ]
  },
  {
   "cell_type": "code",
   "execution_count": 10,
   "id": "67004a4a-6825-49e8-8bfd-770c7ae3c84a",
   "metadata": {},
   "outputs": [
    {
     "data": {
      "text/plain": [
       "MannwhitneyuResult(statistic=0.0, pvalue=6.344839189967265e-18)"
      ]
     },
     "execution_count": 10,
     "metadata": {},
     "output_type": "execute_result"
    }
   ],
   "source": [
    "#тест Манна-Уитни для оценки разницы 90-х процентилей\n",
    "mannwhitneyu(df[df.exp_group == 1].ctr9,\n",
    "             df[df.exp_group == 2].ctr9, \n",
    "             alternative = 'two-sided')"
   ]
  },
  {
   "cell_type": "code",
   "execution_count": 15,
   "id": "b8779719-e808-45fe-ba10-e789d8252866",
   "metadata": {},
   "outputs": [
    {
     "data": {
      "text/plain": [
       "<AxesSubplot:xlabel='ctr9', ylabel='Count'>"
      ]
     },
     "execution_count": 15,
     "metadata": {},
     "output_type": "execute_result"
    },
    {
     "data": {
      "image/png": "[encoded data removed]",
      "text/plain": [
       "<Figure size 432x288 with 1 Axes>"
      ]
     },
     "metadata": {
      "needs_background": "light"
     },
     "output_type": "display_data"
    }
   ],
   "source": [
    "sns.histplot(data=df,\n",
    "             x='ctr9',\n",
    "             hue='exp_group',\n",
    "             palette=['r', 'b'],\n",
    "             bins=20\n",
    "            )"
   ]
  },
  {
   "cell_type": "markdown",
   "id": "7bf9c980-ae39-425b-bee6-65f32429488b",
   "metadata": {},
   "source": [
    "t-test применяется только для оценки равенства средних, поэтому для оценки 90-х процентилей поверх бакетного преобразования применяем тест Манна-Уитни. Его результаты показывают наличие отличий между 90%-м квантилем группы 1 и группы 2. Визуально также заметно"
   ]
  },
  {
   "cell_type": "markdown",
   "id": "a2b44ff0-3e1b-48eb-bcdc-86d30e2c2c29",
   "metadata": {},
   "source": [
    "### 2. Сравните данные этими тестами. А еще посмотрите на распределения глазами. Почему тесты сработали так как сработали?"
   ]
  },
  {
   "cell_type": "code",
   "execution_count": 7,
   "id": "a0474a58-c9d9-43c0-a758-a6ba1343f615",
   "metadata": {},
   "outputs": [
    {
     "data": {
      "text/plain": [
       "<AxesSubplot:xlabel='ctr', ylabel='Count'>"
      ]
     },
     "execution_count": 7,
     "metadata": {},
     "output_type": "execute_result"
    },
    {
     "data": {
      "image/png": "[encoded data removed]",
      "text/plain": [
       "<Figure size 432x288 with 1 Axes>"
      ]
     },
     "metadata": {
      "needs_background": "light"
     },
     "output_type": "display_data"
    }
   ],
   "source": [
    "# распределение ctr в группах 1 и 2\n",
    "sns.histplot(data=df,\n",
    "             x='ctr',\n",
    "             hue='exp_group',\n",
    "             palette=['r', 'b']\n",
    "            )"
   ]
  },
  {
   "cell_type": "code",
   "execution_count": 32,
   "id": "e6afedc3-90aa-4881-b35d-dae85d7c9830",
   "metadata": {},
   "outputs": [
    {
     "data": {
      "text/plain": [
       "<AxesSubplot:xlabel='smoothed_ctr', ylabel='Count'>"
      ]
     },
     "execution_count": 32,
     "metadata": {},
     "output_type": "execute_result"
    },
    {
     "data": {
      "image/png": "[encoded data removed]",
      "text/plain": [
       "<Figure size 432x288 with 1 Axes>"
      ]
     },
     "metadata": {
      "needs_background": "light"
     },
     "output_type": "display_data"
    }
   ],
   "source": [
    "# распределение сглаженных ctr в группах 1 и 2\n",
    "sns.histplot(data=pd.concat([group1, group2]),\n",
    "             x='smoothed_ctr',\n",
    "             hue='exp_group',\n",
    "             palette=['r', 'b']\n",
    "            )"
   ]
  },
  {
   "cell_type": "markdown",
   "id": "ce487d4b-276f-46dc-897d-dab70e58b164",
   "metadata": {},
   "source": [
    "Невооруженным глазом видно, что в экспериментальной группе №2 имеет место бимодальное распределение, что прямо указывает на различие групп 1 и 2. Однако t-test, сравнивающий средние, различие \"не поймал\". Другие тесты указали на различия, т.к. тест Манна-Уитни выявляет различия между ранжированными значениями, а бутстреп более чувствительный (и другие преобразования тоже повышают чувствительность тестов)"
   ]
  },
  {
   "cell_type": "markdown",
   "id": "8174c81a-97b8-4320-b970-7d55fb21bba2",
   "metadata": {},
   "source": [
    "### 3. Опишите потенциальную ситуацию, когда такое изменение могло произойти"
   ]
  },
  {
   "cell_type": "markdown",
   "id": "4cb1254a-0840-442d-9197-2408ecd4e81d",
   "metadata": {},
   "source": [
    "Раз у нас бимодальное распределение, скорее всего пользователи неоднозначно реагируют на проводимый над ними эксперимент. Как будто получаются две группы - у одних пользователей это приводит к повышению ctr, у других к понижению. Если в данном случае пользователям в группе 2 показывали посты, похожие на те, которые они уже лайкали, соответственно, одни на это реагируют таким образом, что начинают больше лайкать, а другие меньше (может быть проходит эффект новизны - ты лайкнул видео, где котик отпрыгивает от огурца, но следующие видео с подобными котиками и огурцами уже лайкать не интересно, да и смотреть тоже!)."
   ]
  },
  {
   "cell_type": "markdown",
   "id": "d11b43ad-9f12-408b-9d35-2c52bc2a159b",
   "metadata": {},
   "source": [
    "### 4. Напишите рекомендацию, будем ли мы раскатывать новый алгоритм на всех новых пользователей или все-таки не стоит."
   ]
  },
  {
   "cell_type": "markdown",
   "id": "5d668c1d-1219-4f1e-b1a7-6b1e2ab2c53f",
   "metadata": {},
   "source": [
    "По моему мнению, всё-таки не стоит. Хотя 90% квантиль в экспериментальной группе выше, наличие большого количества пользователей с необычно низким ctr в экспериментальной группе (левая вершина распределения) настораживает - всё-таки мы не хотели бы, чтобы наше нововведение  вызывало уменьшение метрики у значительной части пользователей."
   ]
  }
 ],
 "metadata": {
  "kernelspec": {
   "display_name": "Python 3 (ipykernel)",
   "language": "python",
   "name": "python3"
  },
  "language_info": {
   "codemirror_mode": {
    "name": "ipython",
    "version": 3
   },
   "file_extension": ".py",
   "mimetype": "text/x-python",
   "name": "python",
   "nbconvert_exporter": "python",
   "pygments_lexer": "ipython3",
   "version": "3.8.10"
  }
 },
 "nbformat": 4,
 "nbformat_minor": 5
}
